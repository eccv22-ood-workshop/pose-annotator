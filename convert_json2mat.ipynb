{
 "cells": [
  {
   "cell_type": "code",
   "execution_count": 6,
   "metadata": {},
   "outputs": [],
   "source": [
    "import scipy\n",
    "\n",
    "from scipy.io import savemat\n",
    "\n",
    "import scipy.io as sio\n",
    "from numpy.core.records import fromarrays\n",
    "import numpy as np\n",
    "from PIL import Image\n",
    "import pandas as pd\n",
    "import requests"
   ]
  },
  {
   "cell_type": "code",
   "execution_count": null,
   "metadata": {},
   "outputs": [],
   "source": []
  },
  {
   "cell_type": "code",
   "execution_count": 2,
   "metadata": {},
   "outputs": [],
   "source": [
    "df = pd.read_csv('../Batch_4774446_batch_results_dummy_0_bbox_2022_07_05_s3_v1.csv')"
   ]
  },
  {
   "cell_type": "code",
   "execution_count": 5,
   "metadata": {},
   "outputs": [
    {
     "data": {
      "text/plain": [
       "'https://robindummy.s3.us-west-2.amazonaws.com/dummy_0_detection_with_gt_2022_07_05_s3/2009_002779_shape.jpg'"
      ]
     },
     "execution_count": 5,
     "metadata": {},
     "output_type": "execute_result"
    }
   ],
   "source": [
    "df['Input.image_url'][0]"
   ]
  },
  {
   "cell_type": "code",
   "execution_count": 7,
   "metadata": {},
   "outputs": [],
   "source": [
    "img_url = df['Input.image_url'][0]"
   ]
  },
  {
   "cell_type": "code",
   "execution_count": 8,
   "metadata": {},
   "outputs": [],
   "source": [
    "img = Image.open(requests.get(img_url, stream=True).raw)"
   ]
  },
  {
   "cell_type": "code",
   "execution_count": null,
   "metadata": {},
   "outputs": [],
   "source": []
  },
  {
   "cell_type": "code",
   "execution_count": null,
   "metadata": {},
   "outputs": [],
   "source": []
  },
  {
   "cell_type": "code",
   "execution_count": 4,
   "metadata": {},
   "outputs": [
    {
     "data": {
      "text/plain": [
       "['class', 'truncated', 'occluded', 'difficult', 'bbox']"
      ]
     },
     "execution_count": 4,
     "metadata": {},
     "output_type": "execute_result"
    }
   ],
   "source": [
    "['class', 'truncated', 'occluded', 'difficult', 'bbox', ]"
   ]
  },
  {
   "cell_type": "code",
   "execution_count": 5,
   "metadata": {},
   "outputs": [],
   "source": [
    "import json"
   ]
  },
  {
   "cell_type": "code",
   "execution_count": 6,
   "metadata": {},
   "outputs": [],
   "source": [
    "subset_json = json.load(open('subset_test/subset-2.json', 'r'))"
   ]
  },
  {
   "cell_type": "code",
   "execution_count": 7,
   "metadata": {},
   "outputs": [
    {
     "data": {
      "text/plain": [
       "dict_keys(['images', 'categories', 'annotations'])"
      ]
     },
     "execution_count": 7,
     "metadata": {},
     "output_type": "execute_result"
    }
   ],
   "source": [
    "subset_json.keys()"
   ]
  },
  {
   "cell_type": "code",
   "execution_count": 8,
   "metadata": {},
   "outputs": [],
   "source": [
    "catid2cat = {\n",
    "    item['id']: item['name'] for item in subset_json['categories']\n",
    "}"
   ]
  },
  {
   "cell_type": "code",
   "execution_count": null,
   "metadata": {},
   "outputs": [],
   "source": []
  },
  {
   "cell_type": "code",
   "execution_count": 9,
   "metadata": {},
   "outputs": [],
   "source": [
    "def xywh_to_xyxy(xywh):\n",
    "    \"\"\"Convert [x1 y1 w h] box format to [x1 y1 x2 y2] format.\"\"\"\n",
    "    if isinstance(xywh, (list, tuple)):\n",
    "        # Single box given as a list of coordinates\n",
    "        assert len(xywh) == 4\n",
    "        x1, y1 = xywh[0], xywh[1]\n",
    "        x2 = x1 + np.maximum(0., xywh[2] - 1.)\n",
    "        y2 = y1 + np.maximum(0., xywh[3] - 1.)\n",
    "        return (x1, y1, x2, y2)\n",
    "    elif isinstance(xywh, np.ndarray):\n",
    "        # Multiple boxes given as a 2D ndarray\n",
    "        return np.hstack(\n",
    "            (xywh[:, 0:2], xywh[:, 0:2] + np.maximum(0, xywh[:, 2:4] - 1))\n",
    "        )\n",
    "    else:\n",
    "        raise TypeError('Argument xywh must be a list, tuple, or numpy array.')\n"
   ]
  },
  {
   "cell_type": "code",
   "execution_count": null,
   "metadata": {},
   "outputs": [],
   "source": []
  },
  {
   "cell_type": "code",
   "execution_count": null,
   "metadata": {},
   "outputs": [],
   "source": []
  },
  {
   "cell_type": "code",
   "execution_count": 10,
   "metadata": {},
   "outputs": [],
   "source": [
    "name2record = {}\n",
    "for item in subset_json['images']:\n",
    "    imgid = item['id']\n",
    "    file_name = item['file_name']\n",
    "    \n",
    "    anno_class, anno_truncated, anno_occluded, anno_difficult, anno_bbox = [], [], [], [], []\n",
    "    \n",
    "    for anno in subset_json['annotations']:\n",
    "        if anno['image_id'] == imgid:\n",
    "            anno_class.append(catid2cat[anno['category_id']])\n",
    "            anno_truncated.append(anno['metadata']['is_truncated'])\n",
    "            anno_occluded.append(anno['metadata']['is_occluded'])\n",
    "            anno_difficult.append(anno['metadata']['is_difficult'])\n",
    "            bbox = list(map(int, anno['bbox']))\n",
    "            bbox = list(map(int, xywh_to_xyxy(bbox)))\n",
    "            anno_bbox.append(np.array(bbox))\n",
    "            \n",
    "    obj = {\n",
    "        'record': {\n",
    "            'filename': file_name,\n",
    "            'objects': \n",
    "                fromarrays(np.array([\n",
    "                    anno_class, anno_truncated, anno_occluded, anno_difficult, anno_bbox\n",
    "                ]), names=['class', 'truncated', 'occluded', 'difficult', 'bbox', ])\n",
    "        }\n",
    "    }\n",
    "    \n",
    "    name2record.update({\n",
    "        file_name[:-4] + '.mat': obj\n",
    "    })"
   ]
  },
  {
   "cell_type": "code",
   "execution_count": 11,
   "metadata": {},
   "outputs": [],
   "source": [
    "import os.path as osp"
   ]
  },
  {
   "cell_type": "code",
   "execution_count": 12,
   "metadata": {},
   "outputs": [],
   "source": [
    "for k, v in name2record.items():\n",
    "    sio.savemat(osp.join('subset_test/subset/Annotations/', k), v)"
   ]
  },
  {
   "cell_type": "code",
   "execution_count": null,
   "metadata": {},
   "outputs": [],
   "source": []
  },
  {
   "cell_type": "code",
   "execution_count": null,
   "metadata": {},
   "outputs": [],
   "source": []
  },
  {
   "cell_type": "code",
   "execution_count": null,
   "metadata": {},
   "outputs": [],
   "source": []
  }
 ],
 "metadata": {
  "kernelspec": {
   "display_name": "Python 3 (ipykernel)",
   "language": "python",
   "name": "python3"
  },
  "language_info": {
   "codemirror_mode": {
    "name": "ipython",
    "version": 3
   },
   "file_extension": ".py",
   "mimetype": "text/x-python",
   "name": "python",
   "nbconvert_exporter": "python",
   "pygments_lexer": "ipython3",
   "version": "3.9.12"
  }
 },
 "nbformat": 4,
 "nbformat_minor": 4
}
